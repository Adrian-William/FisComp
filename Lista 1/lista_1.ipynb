{
  "cells": [
    {
      "cell_type": "markdown",
      "metadata": {
        "id": "dh-LvT-wCTab"
      },
      "source": [
        "fatorial"
      ]
    },
    {
      "cell_type": "markdown",
      "source": [
        "# Atividade basica"
      ],
      "metadata": {
        "id": "OPNcNffC1Snk"
      }
    },
    {
      "cell_type": "markdown",
      "source": [
        "**Fatorial**. A biblioteca numpy já tem uma função otimizada para calcular o fatorial. Porém, vamos fazer a nossa apenas para treinar o uso de loops. Então, faça uma função chamada fatorial que recebe um parâmetro n e calcula n! usando um loop tipo for. Sua implementação deve funcionar de acordo com o template abaixo:"
      ],
      "metadata": {
        "id": "aB2Zj4GZ1esR"
      }
    },
    {
      "cell_type": "code",
      "execution_count": null,
      "metadata": {
        "colab": {
          "base_uri": "https://localhost:8080/"
        },
        "id": "dW3Y0_51_7UI",
        "outputId": "2a055a78-79f9-40e1-9a68-f4e1527a05f7"
      },
      "outputs": [
        {
          "output_type": "stream",
          "name": "stdout",
          "text": [
            "O fatorial de 3 é 6\n",
            "O fatorial de 1 é 1\n",
            "O fatorial de 10 é 3628800\n",
            "O fatorial de 0 é 1\n"
          ]
        }
      ],
      "source": [
        "def fatorial(n):\n",
        "    '''\n",
        "    Calcula e retorna o fatorial de n.\n",
        "\n",
        "    Argumentos\n",
        "    ----------\n",
        "    n : int\n",
        "        O número para o qual calcular o fatorial.\n",
        "\n",
        "    Retorna\n",
        "    -------\n",
        "    int\n",
        "        O fatorial de n.\n",
        "    '''\n",
        "    fat = 1\n",
        "    for i in range(n):\n",
        "      fat = (n-i)*fat\n",
        "    return fat\n",
        "\n",
        "print(f'O fatorial de 3 é {fatorial(3)}')\n",
        "\n",
        "print('O fatorial de 1 é', fatorial(1))\n",
        "\n",
        "f10 = fatorial(10)\n",
        "print(f'O fatorial de 10 é {f10}')\n",
        "\n",
        "f0 = fatorial(0)\n",
        "print('O fatorial de 0 é', f0)"
      ]
    },
    {
      "cell_type": "markdown",
      "metadata": {
        "id": "eIS3SDhgCWra"
      },
      "source": [
        "**Fibonacci**. Use um loop do tipo for em uma função chamada fibonacci, que recebe um número n e retorna uma lista com os n primeiros números da sequência de Fibonacci. Seu código deve seguir o template abaixo:"
      ]
    },
    {
      "cell_type": "code",
      "execution_count": null,
      "metadata": {
        "colab": {
          "base_uri": "https://localhost:8080/"
        },
        "id": "tFYfM1S7CXdc",
        "outputId": "f7ad8c6d-089d-4a7c-ee5d-262147b733c1"
      },
      "outputs": [
        {
          "output_type": "stream",
          "name": "stdout",
          "text": [
            "Sequência dos 5 primeiros números de Fibonacci: [0, 1, 1, 2, 3, 5]\n",
            "Sequência dos 20 primeiros números de Fibonacci: [0, 1, 1, 2, 3, 5, 8, 13, 21, 34, 55, 89, 144, 233, 377, 610, 987, 1597, 2584, 4181, 6765]\n",
            "Sequência dos 30 primeiros números de Fibonacci: [0, 1, 1, 2, 3, 5, 8, 13, 21, 34, 55, 89, 144, 233, 377, 610, 987, 1597, 2584, 4181, 6765, 10946, 17711, 28657, 46368, 75025, 121393, 196418, 317811, 514229, 832040]\n"
          ]
        }
      ],
      "source": [
        "def fibonacci(n):\n",
        "    '''\n",
        "        Calcula e retorna a sequencia de fibonacci de 0 a n.\n",
        "\n",
        "    Argumentos\n",
        "    ----------\n",
        "    n : int\n",
        "        O número de termos a calcular da sequencia de fibonacci.\n",
        "\n",
        "    Retorna\n",
        "    -------\n",
        "    lesta\n",
        "        A sequencia de fibonacci de 0 a n.\n",
        "    '''\n",
        "    b = [0,1]\n",
        "    i = 0\n",
        "    while i < n-1:\n",
        "\n",
        "      b.append(b[i]+b[i+1])\n",
        "      i=i+1\n",
        "\n",
        "    return b\n",
        "\n",
        "\n",
        "print('Sequência dos 5 primeiros números de Fibonacci:', fibonacci(5))\n",
        "\n",
        "f = fibonacci(20)\n",
        "print('Sequência dos 20 primeiros números de Fibonacci:', f)\n",
        "\n",
        "numero = 30\n",
        "f = fibonacci(numero)\n",
        "print(f'Sequência dos {numero} primeiros números de Fibonacci: {f}')"
      ]
    },
    {
      "cell_type": "markdown",
      "metadata": {
        "id": "v4soAJ7XLE7V"
      },
      "source": [
        "**Bhaskara**. Defina uma função chamada bhaskara que recebe três parâmetros (a, b, c) e retorne a duas raízes (x1 , x2) da equação ax² + bx + c = 0. O código deve seguir o template abaixo:"
      ]
    },
    {
      "cell_type": "code",
      "execution_count": null,
      "metadata": {
        "colab": {
          "base_uri": "https://localhost:8080/"
        },
        "id": "u6eWL5RtLFia",
        "outputId": "0840c78c-5e00-46d7-975e-987b3153f2b2"
      },
      "outputs": [
        {
          "output_type": "stream",
          "name": "stdout",
          "text": [
            "A primeira raiz é: (-0.4999999999999999+1.5j)\n",
            "A segunda raiz é: (-0.5000000000000001-1.5j)\n"
          ]
        }
      ],
      "source": [
        "def bhaskara(a, b, c):\n",
        "    '''\n",
        "     Calcula bhaskara da função \" a*X^2 + b*X +c = 0 \" e retorna os possiveis valores de X.\n",
        "\n",
        "    Argumentos\n",
        "    ----------\n",
        "    a : float\n",
        "        Constande que acompanha X^2.\n",
        "    b : float\n",
        "        Constante que acompanha X.\n",
        "    c : float\n",
        "        Constante.\n",
        "\n",
        "    Retorna\n",
        "    -------\n",
        "    Tupla\n",
        "        O possiveis valores de X.\n",
        "    '''\n",
        "\n",
        "\n",
        "    delta = (b**2-4*a*c)**(1/2)\n",
        "    x = ((-b+delta)/(2*a),(-b-delta)/(2*a))\n",
        "\n",
        "    return x\n",
        "\n",
        "x1, x2 = bhaskara(2, 2, 5)\n",
        "print('A primeira raiz é:', x1)\n",
        "print('A segunda raiz é:', x2)"
      ]
    },
    {
      "cell_type": "markdown",
      "metadata": {
        "id": "WI4k1azAN8Fy"
      },
      "source": [
        "**Divisores**. Escreva uma função chamada is_divisor(a, b) que verifica se a é divisível por b e retorna True ou False adequadamente. Não se esqueça de escrever a docstring e após a função escreva duas chamadas de exemplo como em todos os exemplos acima."
      ]
    },
    {
      "cell_type": "code",
      "execution_count": null,
      "metadata": {
        "colab": {
          "base_uri": "https://localhost:8080/"
        },
        "id": "z4friNPsN8ny",
        "outputId": "4741d4ad-eb32-480a-b765-ffd02a34f369"
      },
      "outputs": [
        {
          "output_type": "execute_result",
          "data": {
            "text/plain": [
              "True"
            ]
          },
          "metadata": {},
          "execution_count": 22
        }
      ],
      "source": [
        "def is_divisor(a, b):\n",
        "    '''\n",
        "    Verifica se \"a\" é divisivel por \"b\" e retorna True ou False.\n",
        "\n",
        "    Argumentos\n",
        "    ----------\n",
        "    a : int\n",
        "        Dividendo.\n",
        "    b : int\n",
        "        Divisor.\n",
        "    Retorna\n",
        "    -------\n",
        "    int\n",
        "        O fatorial de n.\n",
        "    '''\n",
        "\n",
        "    return (a%b == 0)\n",
        "\n",
        "\n",
        "is_divisor(4,2)"
      ]
    },
    {
      "cell_type": "markdown",
      "source": [
        "#Atividade intermediaria"
      ],
      "metadata": {
        "id": "q8qaVkK4AtSV"
      }
    },
    {
      "cell_type": "markdown",
      "source": [
        "Refaça o exercício sobre fatorial, mas desta vez, implemente usando (i) loop while; (ii) funções recursivas."
      ],
      "metadata": {
        "id": "EMVyHa022bxs"
      }
    },
    {
      "cell_type": "code",
      "execution_count": null,
      "metadata": {
        "id": "eRQn-fUtRWR7",
        "colab": {
          "base_uri": "https://localhost:8080/"
        },
        "outputId": "2389a0ca-a4b5-48f9-ed48-46ba4e14616a"
      },
      "outputs": [
        {
          "output_type": "stream",
          "name": "stdout",
          "text": [
            "O fatorial de 3 é 6\n",
            "O fatorial de 1 é 1\n",
            "O fatorial de 10 é 3628800\n",
            "O fatorial de 0 é 1\n"
          ]
        }
      ],
      "source": [
        "def fatorial(n):\n",
        "    '''\n",
        "    Calcula e retorna o fatorial de n.\n",
        "\n",
        "    Argumentos\n",
        "    ----------\n",
        "    n : int\n",
        "        O número para o qual calcular o fatorial.\n",
        "\n",
        "    Retorna\n",
        "    -------\n",
        "    int\n",
        "        O fatorial de n.\n",
        "    '''\n",
        "\n",
        "    fatorial = 1\n",
        "    i=1\n",
        "\n",
        "    while i <= n:\n",
        "      fatorial = i*fatorial\n",
        "      i = i+1\n",
        "    return fatorial\n",
        "\n",
        "print(f'O fatorial de 3 é {fatorial(3)}')\n",
        "\n",
        "print('O fatorial de 1 é', fatorial(1))\n",
        "\n",
        "f10 = fatorial(10)\n",
        "print(f'O fatorial de 10 é {f10}')\n",
        "\n",
        "f0 = fatorial(0)\n",
        "print('O fatorial de 0 é', f0)"
      ]
    },
    {
      "cell_type": "markdown",
      "source": [
        "Reveja o exercício sobre a sequência de Fibonacci e edite a função para receber um keyword argument do tipo lista_completa = True. Quando este argumento for True, o código deve retornar a sequência completa como antes, mas caso seja False deve retornar apenas o n-ésimo (último) número da sequência."
      ],
      "metadata": {
        "id": "GMxIinxxzINm"
      }
    },
    {
      "cell_type": "code",
      "source": [
        "def fibonacci(n,lista_completa = True):\n",
        "    '''\n",
        "        Calcula e retorna a sequencia de fibonacci de 0 a n.\n",
        "\n",
        "    Argumentos\n",
        "    ----------\n",
        "    n : int\n",
        "        O número de termos a calcular da sequencia de fibonacci.\n",
        "\n",
        "    Retorna\n",
        "    -------\n",
        "    lista\n",
        "        A sequencia de fibonacci de 0 a n.\n",
        "    int\n",
        "        Utimo numero da sequaencia.\n",
        "    '''\n",
        "\n",
        "    b = [0,1]\n",
        "    i = 0\n",
        "\n",
        "\n",
        "    if lista_completa:\n",
        "\n",
        "      while i < n-1:\n",
        "\n",
        "          b.append(b[i]+b[i+1])\n",
        "          i=i+1\n",
        "\n",
        "      return b\n",
        "\n",
        "    else:\n",
        "\n",
        "      while i < n-1:\n",
        "\n",
        "        x = b[0] + b[1]\n",
        "        b[0]= b[1]\n",
        "        b[1] = x\n",
        "        i = i+1\n",
        "\n",
        "      return b[1]\n",
        "\n",
        "print('Sequência dos 5 primeiros números de Fibonacci:', fibonacci(5))\n",
        "\n",
        "f = fibonacci(20)\n",
        "print('Sequência dos 20 primeiros números de Fibonacci:', f)\n",
        "\n",
        "numero = 30\n",
        "f = fibonacci(numero,False)\n",
        "print(f'O numero {numero} da sequência de Fibonacci: {f}')"
      ],
      "metadata": {
        "colab": {
          "base_uri": "https://localhost:8080/"
        },
        "id": "4TX1zldqzahd",
        "outputId": "a516642f-a89d-41c6-ee58-025e17b2c72e"
      },
      "execution_count": null,
      "outputs": [
        {
          "output_type": "stream",
          "name": "stdout",
          "text": [
            "Sequência dos 5 primeiros números de Fibonacci: [0, 1, 1, 2, 3, 5]\n",
            "Sequência dos 20 primeiros números de Fibonacci: [0, 1, 1, 2, 3, 5, 8, 13, 21, 34, 55, 89, 144, 233, 377, 610, 987, 1597, 2584, 4181, 6765]\n",
            "O numero 30 da sequência de Fibonacci: 832040\n"
          ]
        }
      ]
    },
    {
      "cell_type": "markdown",
      "metadata": {
        "id": "bPVqaNT5RR8I"
      },
      "source": [
        "Verifique se seu código de Bhaskara funciona quando as raízes são complexas. Pode testar com parâmetros a = 1, b = 2 e c = 3. Caso não esteja funcionando, corrija para que retorne raízes complexas corretamente. Não use nenhuma biblioteca externa para isso. Permita também que o código funcione com a = 0, neste caso deve retornar duas raízes iguais."
      ]
    },
    {
      "cell_type": "code",
      "execution_count": null,
      "metadata": {
        "id": "Vbqnea3NRTIV",
        "colab": {
          "base_uri": "https://localhost:8080/"
        },
        "outputId": "e4bbcbe5-a926-43aa-a7e6-ebc38b3d70a0"
      },
      "outputs": [
        {
          "output_type": "stream",
          "name": "stdout",
          "text": [
            "A primeira raiz é: (-0.4999999999999999+1.9364916731037085j)\n",
            "A segunda raiz é: (-0.5000000000000001-1.9364916731037085j)\n"
          ]
        }
      ],
      "source": [
        "def bhaskara(a, b, c):\n",
        "    '''\n",
        "     Calcula bhaskara da função \" a*X^2 + b*X +c = 0 \" e retorna os possiveis valores de X.\n",
        "     Calcula o valor de X caso \"a == 0\".\n",
        "\n",
        "    Argumentos\n",
        "    ----------\n",
        "    a : float\n",
        "        Constande que acompanha X^2.\n",
        "    b : float\n",
        "        Constante que acompanha X.\n",
        "    c : float\n",
        "        Constante.\n",
        "\n",
        "    Retorna\n",
        "    -------\n",
        "    Tupla\n",
        "        O possiveis valores de X.\n",
        "    '''\n",
        "    if a == 0:\n",
        "\n",
        "        x = (c/b,c/b)\n",
        "\n",
        "    else:\n",
        "\n",
        "        delta = (b**2-4*a*c)**(1/2)\n",
        "        x = ((-b+delta)/(2*a),(-b-delta)/(2*a))\n",
        "\n",
        "    return (x)\n",
        "\n",
        "x1 ,x2 = bhaskara(1, 1, 4)\n",
        "print('A primeira raiz é:', x1)\n",
        "print('A segunda raiz é:', x2)"
      ]
    },
    {
      "cell_type": "markdown",
      "source": [
        "#Atividade avançada"
      ],
      "metadata": {
        "id": "zHB9V5H4DMr5"
      }
    },
    {
      "cell_type": "markdown",
      "source": [
        "Use assertions nos códigos do fatorial e Fibonacci para restringir o parâmetro n ao tipo inteiro. No caso de Fibonacci, use também o assert para verificar se o parâmetro lista_completa é do tipo booleano."
      ],
      "metadata": {
        "id": "omQVAQdr3aoC"
      }
    },
    {
      "cell_type": "code",
      "source": [
        "def fatorial(n):\n",
        "    '''\n",
        "    Calcula e retorna o fatorial de n.\n",
        "\n",
        "    Argumentos\n",
        "    ----------\n",
        "    n : int\n",
        "        O número para o qual calcular o fatorial.\n",
        "\n",
        "    Retorna\n",
        "    -------\n",
        "    int\n",
        "        O fatorial de n.\n",
        "    '''\n",
        "    fatorial = 1\n",
        "    i=1\n",
        "\n",
        "\n",
        "    assert isinstance(n, int), \" n deve ser um numero inteiro \"\n",
        "\n",
        "    while i <= n:\n",
        "\n",
        "      fatorial = i*fatorial\n",
        "      i = i+1\n",
        "\n",
        "    return fatorial\n",
        "\n",
        "print(f'O fatorial de 3 é {fatorial(3)}')\n",
        "\n",
        "print('O fatorial de 1 é', fatorial(1))\n",
        "\n",
        "f10 = fatorial(10)\n",
        "print(f'O fatorial de 10 é {f10}')\n",
        "\n",
        "f0 = fatorial(0)\n",
        "print('O fatorial de 0 é', f0)"
      ],
      "metadata": {
        "colab": {
          "base_uri": "https://localhost:8080/"
        },
        "id": "P1Wb0SGYDW4h",
        "outputId": "ec22dd21-1ec4-4028-ce75-3cbc12a8e09e"
      },
      "execution_count": null,
      "outputs": [
        {
          "output_type": "stream",
          "name": "stdout",
          "text": [
            "O fatorial de 3 é 6\n",
            "O fatorial de 1 é 1\n",
            "O fatorial de 10 é 3628800\n",
            "O fatorial de 0 é 1\n"
          ]
        }
      ]
    },
    {
      "cell_type": "code",
      "source": [
        "def fibonacci(n,lista_completa = True):\n",
        "    '''\n",
        "        Calcula e retorna a sequencia de fibonacci de 0 a n.\n",
        "\n",
        "    Argumentos\n",
        "    ----------\n",
        "    n : int\n",
        "        O número de termos a calcular da sequencia de fibonacci.\n",
        "    lista_completa : bool\n",
        "        Define se retorna a lista com a sequência de fibonacci ou so o ultimo termo.\n",
        "    Retorna\n",
        "    -------\n",
        "    lista\n",
        "        A sequencia de fibonacci de 0 a n.\n",
        "    int\n",
        "        Utimo numero da sequaencia.\n",
        "    '''\n",
        "\n",
        "    assert isinstance(lista_completa , bool ), \" lista_completa deve ser do tipo booleano \"\n",
        "\n",
        "    b = [0,1]\n",
        "    i = 0\n",
        "\n",
        "    if lista_completa:\n",
        "\n",
        "      while i < n-1:\n",
        "\n",
        "          b.append(b[i]+b[i+1])\n",
        "          i=i+1\n",
        "\n",
        "      return b\n",
        "\n",
        "    else:\n",
        "\n",
        "      while i < n-1:\n",
        "\n",
        "        x = b[0] + b[1]\n",
        "        b[0]= b[1]\n",
        "        b[1] = x\n",
        "        i = i+1\n",
        "\n",
        "      return b[1]\n",
        "\n",
        "\n",
        "print('Sequência dos 5 primeiros números de Fibonacci:', fibonacci(5))\n",
        "\n",
        "f = fibonacci(20)\n",
        "print('Sequência dos 20 primeiros números de Fibonacci:', f)\n",
        "\n",
        "numero = 30\n",
        "f = fibonacci(numero,False)\n",
        "print(f'O numero {numero} da sequência de Fibonacci: {f}')"
      ],
      "metadata": {
        "colab": {
          "base_uri": "https://localhost:8080/"
        },
        "id": "2iAyT3wfDOeu",
        "outputId": "95324a6d-34f0-4fad-a561-6c3602861038"
      },
      "execution_count": null,
      "outputs": [
        {
          "output_type": "stream",
          "name": "stdout",
          "text": [
            "Sequência dos 5 primeiros números de Fibonacci: [0, 1, 1, 2, 3, 5]\n",
            "Sequência dos 20 primeiros números de Fibonacci: [0, 1, 1, 2, 3, 5, 8, 13, 21, 34, 55, 89, 144, 233, 377, 610, 987, 1597, 2584, 4181, 6765]\n",
            "O numero 30 da sequência de Fibonacci: 832040\n"
          ]
        }
      ]
    },
    {
      "cell_type": "markdown",
      "source": [
        "Modifique o código de Bhaskara para que: (i) funcione apenas com a diferente de zero (use assertions); (ii) não permita raízes completas e levante um erro caso o delta seja negativo."
      ],
      "metadata": {
        "id": "73hqiWjO3zUJ"
      }
    },
    {
      "cell_type": "code",
      "source": [
        "def bhaskara(a, b, c):\n",
        "    '''\n",
        "     Calcula bhaskara da função \" a*X^2 + b*X +c = 0 \" e retorna os possiveis valores de X.\n",
        "     Calcula o valor de X caso \"a == 0\".\n",
        "\n",
        "    Argumentos\n",
        "    ----------\n",
        "    a : float\n",
        "        Constande que acompanha X^2.\n",
        "    b : float\n",
        "        Constante que acompanha X.\n",
        "    c : float\n",
        "        Constante.\n",
        "\n",
        "    Retorna\n",
        "    -------\n",
        "    Tupla\n",
        "        O possiveis valores de X se forem rais.\n",
        "    '''\n",
        "\n",
        "    assert ( a != 0), \"A função não é de segundo grau.\"\n",
        "\n",
        "    delta = (b**2-4*a*c)\n",
        "\n",
        "    assert ( delta >= 0 ), \"esta função possui raizes imaginarias.\"\n",
        "    x = ((-b + (delta**(1/2)))/(2*a),(-b-(delta**(1/2)))/(2*a))\n",
        "\n",
        "    return (x)\n",
        "\n",
        "x1 ,x2 = bhaskara(1, 1, 0)\n",
        "\n",
        "print('A primeira raiz é:', x1)\n",
        "print('A segunda raiz é:', x2)\n",
        "\n",
        "x3 ,x4 = bhaskara(0, 1, 4)\n",
        "print('A primeira raiz é:', x3)\n",
        "print('A segunda raiz é:', x4)"
      ],
      "metadata": {
        "colab": {
          "base_uri": "https://localhost:8080/",
          "height": 367
        },
        "id": "qdwAtgqxXwZg",
        "outputId": "61072131-ccb2-44fc-d7a9-280e40c36356"
      },
      "execution_count": null,
      "outputs": [
        {
          "output_type": "stream",
          "name": "stdout",
          "text": [
            "A primeira raiz é: 0.0\n",
            "A segunda raiz é: -1.0\n"
          ]
        },
        {
          "output_type": "error",
          "ename": "AssertionError",
          "evalue": "A função não é de segundo grau.",
          "traceback": [
            "\u001b[0;31m---------------------------------------------------------------------------\u001b[0m",
            "\u001b[0;31mAssertionError\u001b[0m                            Traceback (most recent call last)",
            "\u001b[0;32m<ipython-input-15-172d7eeec137>\u001b[0m in \u001b[0;36m<cell line: 0>\u001b[0;34m()\u001b[0m\n\u001b[1;32m     33\u001b[0m \u001b[0mprint\u001b[0m\u001b[0;34m(\u001b[0m\u001b[0;34m'A segunda raiz é:'\u001b[0m\u001b[0;34m,\u001b[0m \u001b[0mx2\u001b[0m\u001b[0;34m)\u001b[0m\u001b[0;34m\u001b[0m\u001b[0;34m\u001b[0m\u001b[0m\n\u001b[1;32m     34\u001b[0m \u001b[0;34m\u001b[0m\u001b[0m\n\u001b[0;32m---> 35\u001b[0;31m \u001b[0mx3\u001b[0m \u001b[0;34m,\u001b[0m\u001b[0mx4\u001b[0m \u001b[0;34m=\u001b[0m \u001b[0mbhaskara\u001b[0m\u001b[0;34m(\u001b[0m\u001b[0;36m0\u001b[0m\u001b[0;34m,\u001b[0m \u001b[0;36m1\u001b[0m\u001b[0;34m,\u001b[0m \u001b[0;36m4\u001b[0m\u001b[0;34m)\u001b[0m\u001b[0;34m\u001b[0m\u001b[0;34m\u001b[0m\u001b[0m\n\u001b[0m\u001b[1;32m     36\u001b[0m \u001b[0mprint\u001b[0m\u001b[0;34m(\u001b[0m\u001b[0;34m'A primeira raiz é:'\u001b[0m\u001b[0;34m,\u001b[0m \u001b[0mx3\u001b[0m\u001b[0;34m)\u001b[0m\u001b[0;34m\u001b[0m\u001b[0;34m\u001b[0m\u001b[0m\n\u001b[1;32m     37\u001b[0m \u001b[0mprint\u001b[0m\u001b[0;34m(\u001b[0m\u001b[0;34m'A segunda raiz é:'\u001b[0m\u001b[0;34m,\u001b[0m \u001b[0mx4\u001b[0m\u001b[0;34m)\u001b[0m\u001b[0;34m\u001b[0m\u001b[0;34m\u001b[0m\u001b[0m\n",
            "\u001b[0;32m<ipython-input-15-172d7eeec137>\u001b[0m in \u001b[0;36mbhaskara\u001b[0;34m(a, b, c)\u001b[0m\n\u001b[1;32m     19\u001b[0m     '''\n\u001b[1;32m     20\u001b[0m \u001b[0;34m\u001b[0m\u001b[0m\n\u001b[0;32m---> 21\u001b[0;31m     \u001b[0;32massert\u001b[0m \u001b[0;34m(\u001b[0m \u001b[0ma\u001b[0m \u001b[0;34m!=\u001b[0m \u001b[0;36m0\u001b[0m\u001b[0;34m)\u001b[0m\u001b[0;34m,\u001b[0m \u001b[0;34m\"A função não é de segundo grau.\"\u001b[0m\u001b[0;34m\u001b[0m\u001b[0;34m\u001b[0m\u001b[0m\n\u001b[0m\u001b[1;32m     22\u001b[0m \u001b[0;34m\u001b[0m\u001b[0m\n\u001b[1;32m     23\u001b[0m     \u001b[0mdelta\u001b[0m \u001b[0;34m=\u001b[0m \u001b[0;34m(\u001b[0m\u001b[0mb\u001b[0m\u001b[0;34m**\u001b[0m\u001b[0;36m2\u001b[0m\u001b[0;34m-\u001b[0m\u001b[0;36m4\u001b[0m\u001b[0;34m*\u001b[0m\u001b[0ma\u001b[0m\u001b[0;34m*\u001b[0m\u001b[0mc\u001b[0m\u001b[0;34m)\u001b[0m\u001b[0;34m\u001b[0m\u001b[0;34m\u001b[0m\u001b[0m\n",
            "\u001b[0;31mAssertionError\u001b[0m: A função não é de segundo grau."
          ]
        }
      ]
    },
    {
      "cell_type": "markdown",
      "source": [
        "O código dos divisores acima não deve funcionar quando b = 0. Faça esta verificação de duas formas: (i) usando assertions; (ii) usando try/except para levantar um erro do tipo ZeroDivisionError, imprimir uma mensagem de erro na tela, e retornar None ao invés de True/False."
      ],
      "metadata": {
        "id": "Gf15T1ot33Z-"
      }
    },
    {
      "cell_type": "code",
      "source": [
        "def is_divisor(a, b):\n",
        "    '''\n",
        "    Verifica se \"a\" é divisivel por \"b\" e retorna True ou False.\n",
        "\n",
        "    Argumentos\n",
        "    ----------\n",
        "    a : int\n",
        "        Dividendo.\n",
        "    b : int\n",
        "        Divisor.\n",
        "    Retorna\n",
        "    -------\n",
        "    int\n",
        "        O fatorial de n.\n",
        "    '''\n",
        "    assert (b != 0 ), \"b deve ser diferente de 0.\"\n",
        "\n",
        "    return (a%b == 0)\n",
        "\n",
        "is_divisor(8, 0)"
      ],
      "metadata": {
        "id": "moOGJtskJInu"
      },
      "execution_count": null,
      "outputs": []
    },
    {
      "cell_type": "code",
      "source": [
        "def is_divisor(a, b):\n",
        "    '''\n",
        "    Verifica se \"a\" é divisivel por \"b\" e retorna True ou False.\n",
        "    Verifica se \"b == 0\" se verdadeiro retorna None.\n",
        "\n",
        "    Argumentos\n",
        "    ----------\n",
        "    a : int\n",
        "        Dividendo.\n",
        "    b : int\n",
        "        Divisor.\n",
        "\n",
        "    Retorna\n",
        "    -------\n",
        "    int\n",
        "        O fatorial de n.\n",
        "    '''\n",
        "\n",
        "    try:\n",
        "\n",
        "        return (a%b == 0)\n",
        "\n",
        "    except:\n",
        "\n",
        "        return None\n",
        "\n",
        "is_divisor(8, 0)"
      ],
      "metadata": {
        "id": "ayjNn-AjLW5F"
      },
      "execution_count": null,
      "outputs": []
    }
  ],
  "metadata": {
    "colab": {
      "provenance": [],
      "toc_visible": true
    },
    "kernelspec": {
      "display_name": "Python 3",
      "name": "python3"
    },
    "language_info": {
      "name": "python"
    }
  },
  "nbformat": 4,
  "nbformat_minor": 0
}