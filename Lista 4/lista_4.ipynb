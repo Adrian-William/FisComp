{
 "cells": [
  {
   "cell_type": "markdown",
   "metadata": {},
   "source": [
    "# Atividade Basica"
   ]
  },
  {
   "cell_type": "markdown",
   "metadata": {},
   "source": [
    "Passeio aleatório (implementação básica). Considere um passeio aleatório unidimensional, onde a cada instante de tempo o caminhante dá um passo uma unidade para a direita ou para a esquerda com probabilidades p e 1 − p , respectivamente. O passeio termina depois de N = 1000 passos. Faça um gráfico da posição do caminhante em função do número de passos (que representa o tempo). Use p = 0.5 e p = 0.8 . Implemente na forma de uma função que receba como argumento o número de passos N e a probabilidade p , e retorne um array com a posição do caminhante em cada passo."
   ]
  },
  {
   "cell_type": "code",
   "execution_count": null,
   "metadata": {
    "vscode": {
     "languageId": "plaintext"
    }
   },
   "outputs": [],
   "source": [
    "\n",
    "rng = np.random.default_rng()\n"
   ]
  }
 ],
 "metadata": {
  "language_info": {
   "name": "python"
  }
 },
 "nbformat": 4,
 "nbformat_minor": 2
}
